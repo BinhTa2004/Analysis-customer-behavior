{
 "cells": [
  {
   "cell_type": "code",
   "id": "initial_id",
   "metadata": {
    "collapsed": true,
    "ExecuteTime": {
     "end_time": "2024-12-15T13:37:18.163760Z",
     "start_time": "2024-12-15T13:37:18.159216Z"
    }
   },
   "source": [
    "import pandas as pd\n",
    "import numpy as np\n",
    "import matplotlib.pyplot as plt\n",
    "from sklearn.model_selection import train_test_split\n",
    "from Model import LinearRegression "
   ],
   "outputs": [],
   "execution_count": 23
  },
  {
   "cell_type": "code",
   "id": "69bcabd728f695ca",
   "metadata": {
    "ExecuteTime": {
     "end_time": "2024-12-15T13:37:19.882359Z",
     "start_time": "2024-12-15T13:37:19.874450Z"
    }
   },
   "source": [
    "df = pd.read_csv(\"Data/Housing_data_cleaned.csv\")\n",
    "model = LinearRegression()"
   ],
   "outputs": [],
   "execution_count": 24
  },
  {
   "metadata": {
    "ExecuteTime": {
     "end_time": "2024-12-15T13:37:30.300902Z",
     "start_time": "2024-12-15T13:37:30.292225Z"
    }
   },
   "cell_type": "code",
   "source": [
    "x = df[['area','stories','bedrooms','bathrooms','parking','airconditioning']].values\n",
    "y = df['price'].values\n",
    "\n",
    "X_train, X_test, y_train, y_test = train_test_split(x, y, test_size=0.3, random_state=42)\n",
    "\n",
    "print(f'Training data size: {X_train.shape[0]} samples')\n",
    "print(f'Test data size: {X_test.shape[0]} samples')"
   ],
   "id": "a21fb7ca8f06c92c",
   "outputs": [
    {
     "name": "stdout",
     "output_type": "stream",
     "text": [
      "Training data size: 381 samples\n",
      "Test data size: 164 samples\n"
     ]
    }
   ],
   "execution_count": 25
  },
  {
   "metadata": {
    "ExecuteTime": {
     "end_time": "2024-12-15T13:37:32.378352Z",
     "start_time": "2024-12-15T13:37:32.371088Z"
    }
   },
   "cell_type": "code",
   "source": [
    "model.fit(X_train,y_train)\n",
    "y_pred = model.predict(x)\n",
    "print(\"Weight w (regression coefficient):\")\n",
    "print(model.W)"
   ],
   "id": "c2b179622e50d41e",
   "outputs": [
    {
     "name": "stdout",
     "output_type": "stream",
     "text": [
      "Weight w (regression coefficient):\n",
      "[2.35963583e+05 3.01807905e+02 3.54188695e+05 1.34641468e+05\n",
      " 1.15818911e+06 3.51973036e+05 7.91642286e+05]\n"
     ]
    }
   ],
   "execution_count": 26
  }
 ],
 "metadata": {
  "kernelspec": {
   "display_name": "Python 3",
   "language": "python",
   "name": "python3"
  },
  "language_info": {
   "codemirror_mode": {
    "name": "ipython",
    "version": 3
   },
   "file_extension": ".py",
   "mimetype": "text/x-python",
   "name": "python",
   "nbconvert_exporter": "python",
   "pygments_lexer": "ipython3",
   "version": "3.12.4"
  }
 },
 "nbformat": 4,
 "nbformat_minor": 5
}
