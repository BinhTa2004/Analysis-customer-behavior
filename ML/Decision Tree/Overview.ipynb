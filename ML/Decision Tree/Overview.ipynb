{
 "cells": [
  {
   "cell_type": "markdown",
   "metadata": {},
   "source": [
    "# Decision Tree - Theory"
   ]
  },
  {
   "cell_type": "markdown",
   "metadata": {},
   "source": [
    "### Tiêu chí phân tách (Selection criterion)\n"
   ]
  },
  {
   "cell_type": "markdown",
   "metadata": {},
   "source": [
    "### Độ thuần khiết Gini (Gini impurity, khác với hệ số Gini - Gini index)\n",
    "$ I_g (p) = \\sum\\limits_{i=1}^J(p_i \\sum\\limits_{k \\neq i}) p_k = \\sum\\limits^J_{i=1} (p_i - p_i^2) = \\sum\\limits^J_{i=1} p_i - \\sum\\limits^J_{i=1} p_i^2 = 1 - \\sum\\limits^J_{i=1} p_i^2 $"
   ]
  },
  {
   "cell_type": "markdown",
   "metadata": {},
   "source": [
    "### Độ tăng thông tin (Information gain)\n",
    "##### Định nghĩa của entropy: \n",
    "$ \\mathrm {H} (T)=\\operatorname {I} _{E}\\left(p_{1},p_{2},\\ldots ,p_{J}\\right)=-\\sum _{i=1}^{J}p_{i}\\log _{2}p_{i} $\n",
    "##### (trong đó, p1,p2,..là các xác suất dữ liệu rơi vào từng lớp tại nút con xuất phát từ phân nhánh của cây.)\n",
    "$ \\overbrace {IG(T,a)} ^{\\text{information gain}}=\\overbrace {\\mathrm {H} (T)} ^{\\text{entropy (parent)}}-\\overbrace {\\mathrm {H} (T\\mid a)} ^{\\text{sum of entropies (children)}} $\n",
    "$ =-\\sum _{i=1}^{J}p_{i}\\log _{2}p_{i}-\\sum _{i=1}^{J}-\\Pr(i\\mid a)\\log _{2}\\Pr(i\\mid a) $\n",
    "##### Ta sau đó lấy trung bình của các giá trị có thể xảy ra của A\n",
    "$ \\overbrace {E_{A}(\\operatorname {IG} (T,a))} ^{\\text{expected information gain}}=\\overbrace {I(T;A)} ^{{\\text{mutual information between }}T{\\text{ and }}A}=\\overbrace {\\mathrm {H} (T)} ^{\\text{entropy (parent)}}-\\overbrace {\\mathrm {H} (T\\mid A)} ^{\\text{weighted sum of entropies (children)}} $\n",
    "$$ =-\\sum _{i=1}^{J}p_{i}\\log _{2}p_{i}-\\sum _{a}p(a)\\sum _{i=1}^{J}-\\Pr(i\\mid a)\\log _{2}\\Pr(i\\mid a) $$ \n",
    "##### Ta tính tổng các entropy có trọng số thông qua công thức sau:\n",
    "$ {\\mathrm {H} (T\\mid A)}=\\sum _{a}p(a)\\sum _{i=1}^{J}-\\Pr(i\\mid a)\\log _{2}\\Pr(i\\mid a) $ \n"
   ]
  },
  {
   "cell_type": "markdown",
   "metadata": {},
   "source": [
    "$$ \\text{SplitINFO} = - \\sum \\limits _{i=1}^k \\frac {n_i}{n} log_2 \\frac {n_i}{n} $$"
   ]
  }
 ],
 "metadata": {
  "language_info": {
   "name": "python"
  }
 },
 "nbformat": 4,
 "nbformat_minor": 2
}
