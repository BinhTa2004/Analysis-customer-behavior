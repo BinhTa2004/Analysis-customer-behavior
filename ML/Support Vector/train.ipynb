{
 "cells": [
  {
   "cell_type": "code",
   "execution_count": 2,
   "metadata": {},
   "outputs": [],
   "source": [
    "import pandas as pd\n",
    "import numpy as np\n",
    "from Model import SVM \n",
    "model = SVM()"
   ]
  },
  {
   "cell_type": "code",
   "execution_count": 4,
   "metadata": {},
   "outputs": [
    {
     "name": "stdout",
     "output_type": "stream",
     "text": [
      "     pcost       dcost       gap    pres   dres\n",
      " 0: -4.8724e-01 -5.7985e+00  2e+01  2e+00  1e-15\n",
      " 1: -2.2432e-01 -2.7059e+00  3e+00  8e-02  6e-16\n",
      " 2: -2.1418e-01 -4.3539e-01  2e-01  4e-03  2e-15\n",
      " 3: -2.4409e-01 -2.5723e-01  1e-02  2e-04  7e-16\n",
      " 4: -2.4994e-01 -2.5008e-01  1e-04  2e-06  1e-15\n",
      " 5: -2.5000e-01 -2.5000e-01  1e-06  2e-08  6e-16\n",
      " 6: -2.5000e-01 -2.5000e-01  1e-08  2e-10  6e-16\n",
      "Optimal solution found.\n",
      "Predict for new point (4, 2): Class -1\n",
      "Weight w: [-0.50000003  0.49999996]\n",
      "Bias b: 1.0000002044936251\n"
     ]
    }
   ],
   "source": [
    "X = np.array([[2, 3], [3, 3], [5, 1], [6, -1]])\n",
    "y = np.array([1, 1, -1, -1])\n",
    "\n",
    "svm = SVM(C=1.0)\n",
    "svm.fit(X, y)\n",
    "\n",
    "X_new = np.array([[4, 2]])\n",
    "predictions = svm.predict(X_new)\n",
    "print(\"Predict for new point (4, 2):\", \"Class +1\" if predictions == 1 else \"Class -1\")\n",
    "print(\"Weight w:\", svm.w)\n",
    "print(\"Bias b:\", svm.b)"
   ]
  },
  {
   "cell_type": "code",
   "execution_count": 5,
   "metadata": {},
   "outputs": [
    {
     "name": "stdout",
     "output_type": "stream",
     "text": [
      "w =  [[-0.30242511  0.57631954]]\n",
      "b =  [0.04564907]\n",
      "Dự đoán cho điểm mới (4, 2): Lớp -1\n"
     ]
    }
   ],
   "source": [
    "import numpy as np\n",
    "from sklearn.svm import LinearSVC\n",
    "\n",
    "X = np.array([[2, 3], [3, 3], [5, 1], [6, -1]])\n",
    "y = np.array([1, 1, -1, -1])\n",
    "clf = LinearSVC(C=1.0) \n",
    "clf.fit(X, y)\n",
    "\n",
    "X_new = np.array([[4, 2]])\n",
    "label = clf.predict(X_new) \n",
    "\n",
    "w = clf.coef_\n",
    "b = clf.intercept_\n",
    "print('w = ', w)\n",
    "print('b = ', b)\n",
    "print(\"Dự đoán cho điểm mới (4, 2):\", \"Lớp +1\" if label == 1 else \"Lớp -1\")\n"
   ]
  }
 ],
 "metadata": {
  "kernelspec": {
   "display_name": "Python 3",
   "language": "python",
   "name": "python3"
  },
  "language_info": {
   "codemirror_mode": {
    "name": "ipython",
    "version": 3
   },
   "file_extension": ".py",
   "mimetype": "text/x-python",
   "name": "python",
   "nbconvert_exporter": "python",
   "pygments_lexer": "ipython3",
   "version": "3.12.4"
  }
 },
 "nbformat": 4,
 "nbformat_minor": 2
}
